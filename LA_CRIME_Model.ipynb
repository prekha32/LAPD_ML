{
 "cells": [
  {
   "cell_type": "code",
   "execution_count": 1,
   "id": "0e915e70",
   "metadata": {
    "id": "0e915e70"
   },
   "outputs": [],
   "source": [
    "import numpy as np\n",
    "import pandas as pd\n",
    "from sklearn.model_selection import train_test_split, GridSearchCV\n",
    "from sklearn.linear_model import LogisticRegression\n",
    "from sklearn.ensemble import RandomForestClassifier\n",
    "from sklearn.metrics import accuracy_score, classification_report\n"
   ]
  },
  {
   "cell_type": "markdown",
   "id": "6f34d8f8",
   "metadata": {},
   "source": [
    "## Data Collection and Pre-Processing"
   ]
  },
  {
   "cell_type": "code",
   "execution_count": null,
   "id": "b81be33b",
   "metadata": {},
   "outputs": [],
   "source": [
    "from sqlalchemy import create_engine, text\n",
    "from db_config import DATABASE_CONFIG"
   ]
  },
  {
   "cell_type": "code",
   "execution_count": null,
   "id": "927ff7b0",
   "metadata": {},
   "outputs": [],
   "source": [
    "try:\n",
    "    # Create the SQLAlchemy engine using the DATABASE_CONFIG from db_config.py\n",
    "    connection_url = f\"postgresql://{DATABASE_CONFIG['user']}:{DATABASE_CONFIG['password']}@{DATABASE_CONFIG['host']}:{DATABASE_CONFIG['port']}/{DATABASE_CONFIG['database']}\"\n",
    "    engine = create_engine(connection_url, connect_args={\"sslmode\": \"require\"})\n",
    "\n",
    "    print(connection_url)\n",
    "    # Optionally, read data into a DataFrame\n",
    "    query = \"SELECT * FROM crime_data_2020_to_present;\"  # Example query\n",
    "    with engine.connect() as conn:\n",
    "        crime_data_2020_to_present_df = pd.read_sql(query, conn)\n",
    "        print(crime_data_2020_to_present_df)\n",
    "\n",
    "except Exception as e:\n",
    "    print(\"Error while connecting to PostgreSQL:\", e)"
   ]
  },
  {
   "cell_type": "code",
   "execution_count": 3,
   "id": "52fe0ddf",
   "metadata": {
    "colab": {
     "base_uri": "https://localhost:8080/",
     "height": 563
    },
    "id": "52fe0ddf",
    "outputId": "26fa6344-ac23-4fb8-ff06-863da1acb4b9"
   },
   "outputs": [
    {
     "data": {
      "text/html": [
       "<div>\n",
       "<style scoped>\n",
       "    .dataframe tbody tr th:only-of-type {\n",
       "        vertical-align: middle;\n",
       "    }\n",
       "\n",
       "    .dataframe tbody tr th {\n",
       "        vertical-align: top;\n",
       "    }\n",
       "\n",
       "    .dataframe thead th {\n",
       "        text-align: right;\n",
       "    }\n",
       "</style>\n",
       "<table border=\"1\" class=\"dataframe\">\n",
       "  <thead>\n",
       "    <tr style=\"text-align: right;\">\n",
       "      <th></th>\n",
       "      <th>DATE OCC</th>\n",
       "      <th>Vict Age</th>\n",
       "      <th>Vict Sex</th>\n",
       "      <th>Vict Descent</th>\n",
       "      <th>Premis Cd</th>\n",
       "      <th>Premis Desc</th>\n",
       "      <th>Weapon Used Cd</th>\n",
       "      <th>Weapon Desc</th>\n",
       "      <th>Crm Cd</th>\n",
       "      <th>Cross Street</th>\n",
       "      <th>LAT</th>\n",
       "      <th>LON</th>\n",
       "    </tr>\n",
       "  </thead>\n",
       "  <tbody>\n",
       "    <tr>\n",
       "      <th>0</th>\n",
       "      <td>03/01/2020 12:00:00 AM</td>\n",
       "      <td>0</td>\n",
       "      <td>M</td>\n",
       "      <td>O</td>\n",
       "      <td>101.0</td>\n",
       "      <td>STREET</td>\n",
       "      <td>NaN</td>\n",
       "      <td>NaN</td>\n",
       "      <td>510</td>\n",
       "      <td>NaN</td>\n",
       "      <td>34.0375</td>\n",
       "      <td>-118.3506</td>\n",
       "    </tr>\n",
       "    <tr>\n",
       "      <th>1</th>\n",
       "      <td>02/08/2020 12:00:00 AM</td>\n",
       "      <td>47</td>\n",
       "      <td>M</td>\n",
       "      <td>O</td>\n",
       "      <td>128.0</td>\n",
       "      <td>BUS STOP/LAYOVER (ALSO QUERY 124)</td>\n",
       "      <td>NaN</td>\n",
       "      <td>NaN</td>\n",
       "      <td>330</td>\n",
       "      <td>NaN</td>\n",
       "      <td>34.0444</td>\n",
       "      <td>-118.2628</td>\n",
       "    </tr>\n",
       "    <tr>\n",
       "      <th>2</th>\n",
       "      <td>11/04/2020 12:00:00 AM</td>\n",
       "      <td>19</td>\n",
       "      <td>X</td>\n",
       "      <td>X</td>\n",
       "      <td>502.0</td>\n",
       "      <td>MULTI-UNIT DWELLING (APARTMENT, DUPLEX, ETC)</td>\n",
       "      <td>NaN</td>\n",
       "      <td>NaN</td>\n",
       "      <td>480</td>\n",
       "      <td>NaN</td>\n",
       "      <td>34.0210</td>\n",
       "      <td>-118.3002</td>\n",
       "    </tr>\n",
       "    <tr>\n",
       "      <th>3</th>\n",
       "      <td>03/10/2020 12:00:00 AM</td>\n",
       "      <td>19</td>\n",
       "      <td>M</td>\n",
       "      <td>O</td>\n",
       "      <td>405.0</td>\n",
       "      <td>CLOTHING STORE</td>\n",
       "      <td>NaN</td>\n",
       "      <td>NaN</td>\n",
       "      <td>343</td>\n",
       "      <td>NaN</td>\n",
       "      <td>34.1576</td>\n",
       "      <td>-118.4387</td>\n",
       "    </tr>\n",
       "    <tr>\n",
       "      <th>4</th>\n",
       "      <td>09/09/2020 12:00:00 AM</td>\n",
       "      <td>0</td>\n",
       "      <td>NaN</td>\n",
       "      <td>NaN</td>\n",
       "      <td>101.0</td>\n",
       "      <td>STREET</td>\n",
       "      <td>NaN</td>\n",
       "      <td>NaN</td>\n",
       "      <td>510</td>\n",
       "      <td>NaN</td>\n",
       "      <td>34.0820</td>\n",
       "      <td>-118.2130</td>\n",
       "    </tr>\n",
       "    <tr>\n",
       "      <th>...</th>\n",
       "      <td>...</td>\n",
       "      <td>...</td>\n",
       "      <td>...</td>\n",
       "      <td>...</td>\n",
       "      <td>...</td>\n",
       "      <td>...</td>\n",
       "      <td>...</td>\n",
       "      <td>...</td>\n",
       "      <td>...</td>\n",
       "      <td>...</td>\n",
       "      <td>...</td>\n",
       "      <td>...</td>\n",
       "    </tr>\n",
       "    <tr>\n",
       "      <th>986868</th>\n",
       "      <td>07/23/2024 12:00:00 AM</td>\n",
       "      <td>0</td>\n",
       "      <td>NaN</td>\n",
       "      <td>NaN</td>\n",
       "      <td>101.0</td>\n",
       "      <td>STREET</td>\n",
       "      <td>NaN</td>\n",
       "      <td>NaN</td>\n",
       "      <td>510</td>\n",
       "      <td>NaN</td>\n",
       "      <td>34.0362</td>\n",
       "      <td>-118.3284</td>\n",
       "    </tr>\n",
       "    <tr>\n",
       "      <th>986869</th>\n",
       "      <td>01/15/2024 12:00:00 AM</td>\n",
       "      <td>0</td>\n",
       "      <td>X</td>\n",
       "      <td>X</td>\n",
       "      <td>503.0</td>\n",
       "      <td>HOTEL</td>\n",
       "      <td>500.0</td>\n",
       "      <td>UNKNOWN WEAPON/OTHER WEAPON</td>\n",
       "      <td>745</td>\n",
       "      <td>NaN</td>\n",
       "      <td>34.0685</td>\n",
       "      <td>-118.2460</td>\n",
       "    </tr>\n",
       "    <tr>\n",
       "      <th>986870</th>\n",
       "      <td>10/11/2024 12:00:00 AM</td>\n",
       "      <td>29</td>\n",
       "      <td>M</td>\n",
       "      <td>B</td>\n",
       "      <td>210.0</td>\n",
       "      <td>RESTAURANT/FAST FOOD</td>\n",
       "      <td>NaN</td>\n",
       "      <td>NaN</td>\n",
       "      <td>341</td>\n",
       "      <td>NaN</td>\n",
       "      <td>34.0675</td>\n",
       "      <td>-118.2240</td>\n",
       "    </tr>\n",
       "    <tr>\n",
       "      <th>986871</th>\n",
       "      <td>04/24/2024 12:00:00 AM</td>\n",
       "      <td>70</td>\n",
       "      <td>F</td>\n",
       "      <td>W</td>\n",
       "      <td>102.0</td>\n",
       "      <td>SIDEWALK</td>\n",
       "      <td>308.0</td>\n",
       "      <td>STICK</td>\n",
       "      <td>230</td>\n",
       "      <td>JEFFERSON                    BL</td>\n",
       "      <td>34.0215</td>\n",
       "      <td>-118.2868</td>\n",
       "    </tr>\n",
       "    <tr>\n",
       "      <th>986872</th>\n",
       "      <td>08/12/2024 12:00:00 AM</td>\n",
       "      <td>0</td>\n",
       "      <td>NaN</td>\n",
       "      <td>NaN</td>\n",
       "      <td>108.0</td>\n",
       "      <td>PARKING LOT</td>\n",
       "      <td>NaN</td>\n",
       "      <td>NaN</td>\n",
       "      <td>510</td>\n",
       "      <td>NaN</td>\n",
       "      <td>34.1961</td>\n",
       "      <td>-118.4510</td>\n",
       "    </tr>\n",
       "  </tbody>\n",
       "</table>\n",
       "<p>986873 rows × 12 columns</p>\n",
       "</div>"
      ],
      "text/plain": [
       "                      DATE OCC  Vict Age Vict Sex Vict Descent  Premis Cd  \\\n",
       "0       03/01/2020 12:00:00 AM         0        M            O      101.0   \n",
       "1       02/08/2020 12:00:00 AM        47        M            O      128.0   \n",
       "2       11/04/2020 12:00:00 AM        19        X            X      502.0   \n",
       "3       03/10/2020 12:00:00 AM        19        M            O      405.0   \n",
       "4       09/09/2020 12:00:00 AM         0      NaN          NaN      101.0   \n",
       "...                        ...       ...      ...          ...        ...   \n",
       "986868  07/23/2024 12:00:00 AM         0      NaN          NaN      101.0   \n",
       "986869  01/15/2024 12:00:00 AM         0        X            X      503.0   \n",
       "986870  10/11/2024 12:00:00 AM        29        M            B      210.0   \n",
       "986871  04/24/2024 12:00:00 AM        70        F            W      102.0   \n",
       "986872  08/12/2024 12:00:00 AM         0      NaN          NaN      108.0   \n",
       "\n",
       "                                         Premis Desc  Weapon Used Cd  \\\n",
       "0                                             STREET             NaN   \n",
       "1                  BUS STOP/LAYOVER (ALSO QUERY 124)             NaN   \n",
       "2       MULTI-UNIT DWELLING (APARTMENT, DUPLEX, ETC)             NaN   \n",
       "3                                     CLOTHING STORE             NaN   \n",
       "4                                             STREET             NaN   \n",
       "...                                              ...             ...   \n",
       "986868                                        STREET             NaN   \n",
       "986869                                         HOTEL           500.0   \n",
       "986870                          RESTAURANT/FAST FOOD             NaN   \n",
       "986871                                      SIDEWALK           308.0   \n",
       "986872                                   PARKING LOT             NaN   \n",
       "\n",
       "                        Weapon Desc  Crm Cd                     Cross Street  \\\n",
       "0                               NaN     510                              NaN   \n",
       "1                               NaN     330                              NaN   \n",
       "2                               NaN     480                              NaN   \n",
       "3                               NaN     343                              NaN   \n",
       "4                               NaN     510                              NaN   \n",
       "...                             ...     ...                              ...   \n",
       "986868                          NaN     510                              NaN   \n",
       "986869  UNKNOWN WEAPON/OTHER WEAPON     745                              NaN   \n",
       "986870                          NaN     341                              NaN   \n",
       "986871                        STICK     230  JEFFERSON                    BL   \n",
       "986872                          NaN     510                              NaN   \n",
       "\n",
       "            LAT       LON  \n",
       "0       34.0375 -118.3506  \n",
       "1       34.0444 -118.2628  \n",
       "2       34.0210 -118.3002  \n",
       "3       34.1576 -118.4387  \n",
       "4       34.0820 -118.2130  \n",
       "...         ...       ...  \n",
       "986868  34.0362 -118.3284  \n",
       "986869  34.0685 -118.2460  \n",
       "986870  34.0675 -118.2240  \n",
       "986871  34.0215 -118.2868  \n",
       "986872  34.1961 -118.4510  \n",
       "\n",
       "[986873 rows x 12 columns]"
      ]
     },
     "execution_count": 3,
     "metadata": {},
     "output_type": "execute_result"
    }
   ],
   "source": [
    "crime_data_2020_to_present_df[[\n",
    " 'DATE OCC',\n",
    " 'Vict Age',   \n",
    " 'Vict Sex',\n",
    " 'Vict Descent',\n",
    " 'Premis Cd',\n",
    " 'Premis Desc',\n",
    " 'Weapon Used Cd',\n",
    " 'Weapon Desc',\n",
    " 'Crm Cd',\n",
    " 'Cross Street',\n",
    " 'LAT',\n",
    " 'LON']]"
   ]
  },
  {
   "cell_type": "code",
   "execution_count": null,
   "id": "6797a339",
   "metadata": {},
   "outputs": [],
   "source": [
    "reduced_crime_df = df\n",
    "# Saving the selected DataFrame to a CSV file\n",
    "reduced_crime_df.to_csv(\"reduced_crime_df.csv\", index=False)\n",
    "\n",
    "print(\"CSV file 'reduced_crime_df.csv' saved successfully!\")\n"
   ]
  },
  {
   "cell_type": "markdown",
   "id": "8d5a78be",
   "metadata": {},
   "source": [
    "## Further data cleaup and refinement"
   ]
  },
  {
   "cell_type": "code",
   "execution_count": 4,
   "id": "39dae1fa",
   "metadata": {
    "id": "39dae1fa"
   },
   "outputs": [],
   "source": [
    "crime_data_2020_to_present_df['Vict Sex'].fillna('X', inplace = True)\n",
    "crime_data_2020_to_present_df['Vict Sex'].replace(['H', '-'], 'X', inplace = True)\n",
    "crime_data_2020_to_present_df['Vict Descent'].replace('-', 'Unknown', inplace = True)\n",
    "crime_data_2020_to_present_df[['Vict Descent', 'Weapon Used Cd', 'Weapon Desc']] = crime_data_2020_to_present_df[['Vict Descent', 'Weapon Used Cd', 'Weapon Desc']].fillna('Unknown')\n",
    "crime_data_2020_to_present_df.dropna(subset = ['Crm Cd 1'], inplace = True)\n",
    "crime_data_2020_to_present_df.dropna(subset = ['Crm Cd'], inplace = True)"
   ]
  },
  {
   "cell_type": "code",
   "execution_count": 5,
   "id": "f1b0d8bc",
   "metadata": {},
   "outputs": [],
   "source": [
    "crime_data_2020_to_present_df['DateConvert'] = pd.to_datetime(crime_data_2020_to_present_df['DATE OCC'], format='%m/%d/%Y %I:%M:%S %p')\n",
    "crime_data_2020_to_present_df['OCC MONTH'] = crime_data_2020_to_present_df['DateConvert'].dt.month\n",
    "crime_data_2020_to_present_df['OCC YEAR'] = crime_data_2020_to_present_df['DateConvert'].dt.year"
   ]
  },
  {
   "cell_type": "code",
   "execution_count": 6,
   "id": "51fcdd04",
   "metadata": {},
   "outputs": [],
   "source": [
    "# Add violent crime  column\n",
    "violent_codes = [830, 113, 436, 435, 760, 921, 920, 814, 943, 622, 122, 434, 922, 250, 822, 821, 235, 763, 820, 762, 647, 910, 902, 437, 231, 810, 815, 110, 251, 648, 623, 753, 627, 121, 860, 625, 220, 900, 901, 236, 930, 210, 626, 230, 624]\n",
    "\n",
    "crime_data_2020_to_present_df['Violent_Crime'] = crime_data_2020_to_present_df['Crm Cd'].isin(violent_codes).astype(int)"
   ]
  },
  {
   "cell_type": "code",
   "execution_count": 7,
   "id": "7328cc90",
   "metadata": {},
   "outputs": [
    {
     "data": {
      "text/plain": [
       "299834"
      ]
     },
     "execution_count": 7,
     "metadata": {},
     "output_type": "execute_result"
    }
   ],
   "source": [
    "## total number of violent crime records\n",
    "violent_crime1_df = crime_data_2020_to_present_df[crime_data_2020_to_present_df['Violent_Crime'] == 1]\n",
    "violent_crime1_df.shape[0]"
   ]
  },
  {
   "cell_type": "code",
   "execution_count": null,
   "id": "d030d4d1",
   "metadata": {},
   "outputs": [],
   "source": [
    "# Dropping outliers and irrelevant crime codes when utilizing balanced data\n",
    "drop_codes = [330, 345, 347, 349, 351, 353, 354, 410, 421, 432, 433, 438, 439, 441, 443, 444, 445, 446, 450, 451, 452, 453, 470, 471, 473, 474, 475, 485, 487, 510, 651, 652, 653, 654, 660, 661, 666, 670, 755, 756, 805, 806, 840, 865, 870, 880, 882, 884, 904, 906, 924, 926, 928, 931, 932, 933, 942, 944, 948, 949, 950, 951, 954, 343, 813, 845, 886, 888, 890, 903, 946, 956, 740]\n",
    "for value in drop_codes:\n",
    "    crime_data_2020_to_present_df = crime_data_2020_to_present_df[crime_data_2020_to_present_df['Crm Cd'] != value]"
   ]
  },
  {
   "cell_type": "code",
   "execution_count": 9,
   "id": "6e4ffbb1",
   "metadata": {},
   "outputs": [
    {
     "data": {
      "text/plain": [
       "337661"
      ]
     },
     "execution_count": 9,
     "metadata": {},
     "output_type": "execute_result"
    }
   ],
   "source": [
    "## total number of non-violent crime records\n",
    "violent_crime0_df = crime_data_2020_to_present_df[crime_data_2020_to_present_df['Violent_Crime'] == 0]\n",
    "violent_crime0_df.shape[0]"
   ]
  },
  {
   "cell_type": "code",
   "execution_count": 10,
   "id": "590616cc",
   "metadata": {},
   "outputs": [
    {
     "data": {
      "text/plain": [
       "2         2020\n",
       "6         2020\n",
       "11        2020\n",
       "15        2020\n",
       "22        2020\n",
       "          ... \n",
       "986866    2024\n",
       "986867    2024\n",
       "986869    2024\n",
       "986870    2024\n",
       "986871    2024\n",
       "Name: OCC YEAR, Length: 637495, dtype: int32"
      ]
     },
     "execution_count": 10,
     "metadata": {},
     "output_type": "execute_result"
    }
   ],
   "source": [
    "crime_data_2020_to_present_df['OCC YEAR']"
   ]
  },
  {
   "cell_type": "code",
   "execution_count": 22,
   "id": "c6abc70a",
   "metadata": {},
   "outputs": [
    {
     "name": "stdout",
     "output_type": "stream",
     "text": [
      "Total Crimes 154067\n",
      "Total Violent Crimes 72163\n",
      "Total Non-Violent Crimes 81904\n"
     ]
    }
   ],
   "source": [
    "df_2023 = crime_data_2020_to_present_df[crime_data_2020_to_present_df['OCC YEAR'] == 2023]\n",
    "print('Total Crimes', df_2023.shape[0])\n",
    "print('Total Violent Crimes', df_2023[df_2023['Violent_Crime'] == 1].shape[0])\n",
    "print('Total Non-Violent Crimes', df_2023[df_2023['Violent_Crime'] == 0].shape[0])"
   ]
  },
  {
   "cell_type": "code",
   "execution_count": 48,
   "id": "76b7e6aa",
   "metadata": {},
   "outputs": [
    {
     "name": "stdout",
     "output_type": "stream",
     "text": [
      "AREA\n",
      "1     11685\n",
      "14    10226\n",
      "12    10023\n",
      "3      9658\n",
      "6      8583\n",
      "20     8535\n",
      "7      8426\n",
      "2      8400\n",
      "13     8327\n",
      "15     8133\n",
      "18     8082\n",
      "8      7636\n",
      "9      7235\n",
      "10     7193\n",
      "17     7181\n",
      "21     7040\n",
      "11     6858\n",
      "5      6559\n",
      "19     6220\n",
      "4      6208\n",
      "16     5030\n",
      "Name: count, dtype: int64\n"
     ]
    }
   ],
   "source": [
    "category_counts = df_2023['AREA'].value_counts()\n",
    "print(category_counts)"
   ]
  },
  {
   "cell_type": "code",
   "execution_count": null,
   "id": "3f613d9f",
   "metadata": {},
   "outputs": [
    {
     "name": "stdout",
     "output_type": "stream",
     "text": [
      "Total Crimes 42687\n",
      "Total Violent Crimes 21487\n",
      "Total Non-Violent Crimes 21200\n"
     ]
    }
   ],
   "source": [
    "df_AREA = crime_data_2020_to_present_df[crime_data_2020_to_present_df['AREA'] == 1]\n",
    "print('Total Crimes', df_AREA.shape[0])\n",
    "print('Total Violent Crimes', df_AREA[df_AREA['Violent_Crime'] == 1].shape[0])\n",
    "print('Total Non-Violent Crimes', df_AREA[df_AREA['Violent_Crime'] == 0].shape[0])"
   ]
  },
  {
   "cell_type": "code",
   "execution_count": 42,
   "id": "773346fb",
   "metadata": {},
   "outputs": [
    {
     "name": "stdout",
     "output_type": "stream",
     "text": [
      "Total Crimes 10650\n",
      "Total Violent Crimes 5493\n",
      "Total Non-Violent Crimes 5157\n"
     ]
    }
   ],
   "source": [
    "df_AREA_ONE_YEAR = df_AREA[df_AREA['OCC YEAR'] == 2023]\n",
    "print('Total Crimes', df_AREA_ONE_YEAR.shape[0])\n",
    "print('Total Violent Crimes', df_AREA_ONE_YEAR[df_AREA_ONE_YEAR['Violent_Crime'] == 1].shape[0])\n",
    "print('Total Non-Violent Crimes', df_AREA_ONE_YEAR[df_AREA_ONE_YEAR['Violent_Crime'] == 0].shape[0])"
   ]
  },
  {
   "cell_type": "markdown",
   "id": "550adc14",
   "metadata": {},
   "source": [
    "## Data Preperation"
   ]
  },
  {
   "cell_type": "code",
   "execution_count": null,
   "id": "89ea2d2d",
   "metadata": {},
   "outputs": [],
   "source": [
    "## ALL YEARS"
   ]
  },
  {
   "cell_type": "code",
   "execution_count": 12,
   "id": "833d708f",
   "metadata": {},
   "outputs": [
    {
     "name": "stderr",
     "output_type": "stream",
     "text": [
      "C:\\Users\\jesus\\AppData\\Local\\Temp\\ipykernel_26604\\295227637.py:11: SettingWithCopyWarning: \n",
      "A value is trying to be set on a copy of a slice from a DataFrame.\n",
      "Try using .loc[row_indexer,col_indexer] = value instead\n",
      "\n",
      "See the caveats in the documentation: https://pandas.pydata.org/pandas-docs/stable/user_guide/indexing.html#returning-a-view-versus-a-copy\n",
      "  features[col] = Encoder.fit_transform(features[col])\n",
      "C:\\Users\\jesus\\AppData\\Local\\Temp\\ipykernel_26604\\295227637.py:11: SettingWithCopyWarning: \n",
      "A value is trying to be set on a copy of a slice from a DataFrame.\n",
      "Try using .loc[row_indexer,col_indexer] = value instead\n",
      "\n",
      "See the caveats in the documentation: https://pandas.pydata.org/pandas-docs/stable/user_guide/indexing.html#returning-a-view-versus-a-copy\n",
      "  features[col] = Encoder.fit_transform(features[col])\n"
     ]
    },
    {
     "data": {
      "text/html": [
       "<div>\n",
       "<style scoped>\n",
       "    .dataframe tbody tr th:only-of-type {\n",
       "        vertical-align: middle;\n",
       "    }\n",
       "\n",
       "    .dataframe tbody tr th {\n",
       "        vertical-align: top;\n",
       "    }\n",
       "\n",
       "    .dataframe thead th {\n",
       "        text-align: right;\n",
       "    }\n",
       "</style>\n",
       "<table border=\"1\" class=\"dataframe\">\n",
       "  <thead>\n",
       "    <tr style=\"text-align: right;\">\n",
       "      <th></th>\n",
       "      <th>AREA</th>\n",
       "      <th>Vict Age</th>\n",
       "      <th>Vict Sex</th>\n",
       "      <th>Vict Descent</th>\n",
       "      <th>Violent_Crime</th>\n",
       "    </tr>\n",
       "  </thead>\n",
       "  <tbody>\n",
       "    <tr>\n",
       "      <th>AREA</th>\n",
       "      <td>1.000000</td>\n",
       "      <td>0.016003</td>\n",
       "      <td>-0.029092</td>\n",
       "      <td>0.010491</td>\n",
       "      <td>-0.008733</td>\n",
       "    </tr>\n",
       "    <tr>\n",
       "      <th>Vict Age</th>\n",
       "      <td>0.016003</td>\n",
       "      <td>1.000000</td>\n",
       "      <td>-0.467420</td>\n",
       "      <td>-0.279850</td>\n",
       "      <td>0.127406</td>\n",
       "    </tr>\n",
       "    <tr>\n",
       "      <th>Vict Sex</th>\n",
       "      <td>-0.029092</td>\n",
       "      <td>-0.467420</td>\n",
       "      <td>1.000000</td>\n",
       "      <td>0.429082</td>\n",
       "      <td>-0.264388</td>\n",
       "    </tr>\n",
       "    <tr>\n",
       "      <th>Vict Descent</th>\n",
       "      <td>0.010491</td>\n",
       "      <td>-0.279850</td>\n",
       "      <td>0.429082</td>\n",
       "      <td>1.000000</td>\n",
       "      <td>-0.309739</td>\n",
       "    </tr>\n",
       "    <tr>\n",
       "      <th>Violent_Crime</th>\n",
       "      <td>-0.008733</td>\n",
       "      <td>0.127406</td>\n",
       "      <td>-0.264388</td>\n",
       "      <td>-0.309739</td>\n",
       "      <td>1.000000</td>\n",
       "    </tr>\n",
       "  </tbody>\n",
       "</table>\n",
       "</div>"
      ],
      "text/plain": [
       "                   AREA  Vict Age  Vict Sex  Vict Descent  Violent_Crime\n",
       "AREA           1.000000  0.016003 -0.029092      0.010491      -0.008733\n",
       "Vict Age       0.016003  1.000000 -0.467420     -0.279850       0.127406\n",
       "Vict Sex      -0.029092 -0.467420  1.000000      0.429082      -0.264388\n",
       "Vict Descent   0.010491 -0.279850  0.429082      1.000000      -0.309739\n",
       "Violent_Crime -0.008733  0.127406 -0.264388     -0.309739       1.000000"
      ]
     },
     "execution_count": 12,
     "metadata": {},
     "output_type": "execute_result"
    }
   ],
   "source": [
    "features = crime_data_2020_to_present_df[['AREA','Vict Age', 'Vict Sex', 'Vict Descent', 'Violent_Crime']]\n",
    "\n",
    "df_cat = features.select_dtypes(include = 'object')\n",
    "df_num = features.select_dtypes(include = [np.number])\n",
    "\n",
    "from sklearn.preprocessing import LabelEncoder\n",
    "Encoder = LabelEncoder()\n",
    "\n",
    "for col in df_cat:\n",
    "    if col not in ['Violent_Crime']:\n",
    "        features[col] = Encoder.fit_transform(features[col])\n",
    "\n",
    "features.corr()\n"
   ]
  },
  {
   "cell_type": "code",
   "execution_count": 13,
   "id": "e74ce988",
   "metadata": {},
   "outputs": [
    {
     "data": {
      "image/png": "[encoded data removed]",
      "text/plain": [
       "<Figure size 1000x800 with 2 Axes>"
      ]
     },
     "metadata": {},
     "output_type": "display_data"
    }
   ],
   "source": [
    "## Calculate correlation matrix to understand relationships, feature selection, and insight\n",
    "import seaborn as sns\n",
    "import matplotlib.pyplot as plt\n",
    "\n",
    "corr = features.corr()  \n",
    "plt.figure(figsize=(10, 8))\n",
    "sns.heatmap(corr, annot=True, cmap='coolwarm', fmt='.2f', linewidths=0.5)\n",
    "plt.show()"
   ]
  },
  {
   "cell_type": "code",
   "execution_count": 14,
   "id": "1baec186",
   "metadata": {
    "id": "1baec186"
   },
   "outputs": [],
   "source": [
    "sampled_df = features.sample(n=500000, random_state=42)"
   ]
  },
  {
   "cell_type": "code",
   "execution_count": null,
   "id": "47d62522",
   "metadata": {},
   "outputs": [],
   "source": [
    "## Individual YEARS"
   ]
  },
  {
   "cell_type": "code",
   "execution_count": 23,
   "id": "d4341384",
   "metadata": {},
   "outputs": [
    {
     "name": "stderr",
     "output_type": "stream",
     "text": [
      "C:\\Users\\jesus\\AppData\\Local\\Temp\\ipykernel_26604\\3826362491.py:11: SettingWithCopyWarning: \n",
      "A value is trying to be set on a copy of a slice from a DataFrame.\n",
      "Try using .loc[row_indexer,col_indexer] = value instead\n",
      "\n",
      "See the caveats in the documentation: https://pandas.pydata.org/pandas-docs/stable/user_guide/indexing.html#returning-a-view-versus-a-copy\n",
      "  features_yr[col] = Encoder.fit_transform(features_yr[col])\n",
      "C:\\Users\\jesus\\AppData\\Local\\Temp\\ipykernel_26604\\3826362491.py:11: SettingWithCopyWarning: \n",
      "A value is trying to be set on a copy of a slice from a DataFrame.\n",
      "Try using .loc[row_indexer,col_indexer] = value instead\n",
      "\n",
      "See the caveats in the documentation: https://pandas.pydata.org/pandas-docs/stable/user_guide/indexing.html#returning-a-view-versus-a-copy\n",
      "  features_yr[col] = Encoder.fit_transform(features_yr[col])\n"
     ]
    },
    {
     "data": {
      "text/html": [
       "<div>\n",
       "<style scoped>\n",
       "    .dataframe tbody tr th:only-of-type {\n",
       "        vertical-align: middle;\n",
       "    }\n",
       "\n",
       "    .dataframe tbody tr th {\n",
       "        vertical-align: top;\n",
       "    }\n",
       "\n",
       "    .dataframe thead th {\n",
       "        text-align: right;\n",
       "    }\n",
       "</style>\n",
       "<table border=\"1\" class=\"dataframe\">\n",
       "  <thead>\n",
       "    <tr style=\"text-align: right;\">\n",
       "      <th></th>\n",
       "      <th>AREA</th>\n",
       "      <th>Vict Age</th>\n",
       "      <th>Vict Sex</th>\n",
       "      <th>Vict Descent</th>\n",
       "      <th>Violent_Crime</th>\n",
       "    </tr>\n",
       "  </thead>\n",
       "  <tbody>\n",
       "    <tr>\n",
       "      <th>AREA</th>\n",
       "      <td>1.000000</td>\n",
       "      <td>0.022335</td>\n",
       "      <td>-0.044691</td>\n",
       "      <td>0.006051</td>\n",
       "      <td>-0.006234</td>\n",
       "    </tr>\n",
       "    <tr>\n",
       "      <th>Vict Age</th>\n",
       "      <td>0.022335</td>\n",
       "      <td>1.000000</td>\n",
       "      <td>-0.490525</td>\n",
       "      <td>-0.301131</td>\n",
       "      <td>0.142650</td>\n",
       "    </tr>\n",
       "    <tr>\n",
       "      <th>Vict Sex</th>\n",
       "      <td>-0.044691</td>\n",
       "      <td>-0.490525</td>\n",
       "      <td>1.000000</td>\n",
       "      <td>0.454105</td>\n",
       "      <td>-0.277475</td>\n",
       "    </tr>\n",
       "    <tr>\n",
       "      <th>Vict Descent</th>\n",
       "      <td>0.006051</td>\n",
       "      <td>-0.301131</td>\n",
       "      <td>0.454105</td>\n",
       "      <td>1.000000</td>\n",
       "      <td>-0.317605</td>\n",
       "    </tr>\n",
       "    <tr>\n",
       "      <th>Violent_Crime</th>\n",
       "      <td>-0.006234</td>\n",
       "      <td>0.142650</td>\n",
       "      <td>-0.277475</td>\n",
       "      <td>-0.317605</td>\n",
       "      <td>1.000000</td>\n",
       "    </tr>\n",
       "  </tbody>\n",
       "</table>\n",
       "</div>"
      ],
      "text/plain": [
       "                   AREA  Vict Age  Vict Sex  Vict Descent  Violent_Crime\n",
       "AREA           1.000000  0.022335 -0.044691      0.006051      -0.006234\n",
       "Vict Age       0.022335  1.000000 -0.490525     -0.301131       0.142650\n",
       "Vict Sex      -0.044691 -0.490525  1.000000      0.454105      -0.277475\n",
       "Vict Descent   0.006051 -0.301131  0.454105      1.000000      -0.317605\n",
       "Violent_Crime -0.006234  0.142650 -0.277475     -0.317605       1.000000"
      ]
     },
     "execution_count": 23,
     "metadata": {},
     "output_type": "execute_result"
    }
   ],
   "source": [
    "features_yr = df_2023[['AREA','Vict Age', 'Vict Sex', 'Vict Descent', 'Violent_Crime']]\n",
    "\n",
    "df_cat = features_yr.select_dtypes(include = 'object')\n",
    "df_num = features_yr.select_dtypes(include = [np.number])\n",
    "\n",
    "from sklearn.preprocessing import LabelEncoder\n",
    "Encoder = LabelEncoder()\n",
    "\n",
    "for col in df_cat:\n",
    "    if col not in ['Violent_Crime']:\n",
    "        features_yr[col] = Encoder.fit_transform(features_yr[col])\n",
    "\n",
    "features_yr.corr()"
   ]
  },
  {
   "cell_type": "code",
   "execution_count": 24,
   "id": "1d79e2d9",
   "metadata": {},
   "outputs": [
    {
     "data": {
      "image/png": "[encoded data removed]",
      "text/plain": [
       "<Figure size 1000x800 with 2 Axes>"
      ]
     },
     "metadata": {},
     "output_type": "display_data"
    }
   ],
   "source": [
    "## Calculate correlation matrix to understand relationships, feature selection, and insight\n",
    "import seaborn as sns\n",
    "import matplotlib.pyplot as plt\n",
    "\n",
    "corr = features_yr.corr()  \n",
    "plt.figure(figsize=(10, 8))\n",
    "sns.heatmap(corr, annot=True, cmap='coolwarm', fmt='.2f', linewidths=0.5)\n",
    "plt.show()"
   ]
  },
  {
   "cell_type": "code",
   "execution_count": 25,
   "id": "438bba38",
   "metadata": {},
   "outputs": [],
   "source": [
    "sampled_yr_df = features_yr.sample(n=100000, random_state=42)"
   ]
  },
  {
   "cell_type": "code",
   "execution_count": null,
   "id": "0ab95783",
   "metadata": {},
   "outputs": [],
   "source": [
    "## Individual AREA"
   ]
  },
  {
   "cell_type": "code",
   "execution_count": 33,
   "id": "7ff17b7e",
   "metadata": {},
   "outputs": [
    {
     "name": "stderr",
     "output_type": "stream",
     "text": [
      "C:\\Users\\jesus\\AppData\\Local\\Temp\\ipykernel_26604\\3913417856.py:11: SettingWithCopyWarning: \n",
      "A value is trying to be set on a copy of a slice from a DataFrame.\n",
      "Try using .loc[row_indexer,col_indexer] = value instead\n",
      "\n",
      "See the caveats in the documentation: https://pandas.pydata.org/pandas-docs/stable/user_guide/indexing.html#returning-a-view-versus-a-copy\n",
      "  features_area[col] = Encoder.fit_transform(features_area[col])\n",
      "C:\\Users\\jesus\\AppData\\Local\\Temp\\ipykernel_26604\\3913417856.py:11: SettingWithCopyWarning: \n",
      "A value is trying to be set on a copy of a slice from a DataFrame.\n",
      "Try using .loc[row_indexer,col_indexer] = value instead\n",
      "\n",
      "See the caveats in the documentation: https://pandas.pydata.org/pandas-docs/stable/user_guide/indexing.html#returning-a-view-versus-a-copy\n",
      "  features_area[col] = Encoder.fit_transform(features_area[col])\n"
     ]
    },
    {
     "data": {
      "text/html": [
       "<div>\n",
       "<style scoped>\n",
       "    .dataframe tbody tr th:only-of-type {\n",
       "        vertical-align: middle;\n",
       "    }\n",
       "\n",
       "    .dataframe tbody tr th {\n",
       "        vertical-align: top;\n",
       "    }\n",
       "\n",
       "    .dataframe thead th {\n",
       "        text-align: right;\n",
       "    }\n",
       "</style>\n",
       "<table border=\"1\" class=\"dataframe\">\n",
       "  <thead>\n",
       "    <tr style=\"text-align: right;\">\n",
       "      <th></th>\n",
       "      <th>Vict Age</th>\n",
       "      <th>Vict Sex</th>\n",
       "      <th>Vict Descent</th>\n",
       "      <th>Violent_Crime</th>\n",
       "    </tr>\n",
       "  </thead>\n",
       "  <tbody>\n",
       "    <tr>\n",
       "      <th>Vict Age</th>\n",
       "      <td>1.000000</td>\n",
       "      <td>-0.430448</td>\n",
       "      <td>-0.349780</td>\n",
       "      <td>0.210090</td>\n",
       "    </tr>\n",
       "    <tr>\n",
       "      <th>Vict Sex</th>\n",
       "      <td>-0.430448</td>\n",
       "      <td>1.000000</td>\n",
       "      <td>0.387968</td>\n",
       "      <td>-0.218307</td>\n",
       "    </tr>\n",
       "    <tr>\n",
       "      <th>Vict Descent</th>\n",
       "      <td>-0.349780</td>\n",
       "      <td>0.387968</td>\n",
       "      <td>1.000000</td>\n",
       "      <td>-0.224450</td>\n",
       "    </tr>\n",
       "    <tr>\n",
       "      <th>Violent_Crime</th>\n",
       "      <td>0.210090</td>\n",
       "      <td>-0.218307</td>\n",
       "      <td>-0.224450</td>\n",
       "      <td>1.000000</td>\n",
       "    </tr>\n",
       "  </tbody>\n",
       "</table>\n",
       "</div>"
      ],
      "text/plain": [
       "               Vict Age  Vict Sex  Vict Descent  Violent_Crime\n",
       "Vict Age       1.000000 -0.430448     -0.349780       0.210090\n",
       "Vict Sex      -0.430448  1.000000      0.387968      -0.218307\n",
       "Vict Descent  -0.349780  0.387968      1.000000      -0.224450\n",
       "Violent_Crime  0.210090 -0.218307     -0.224450       1.000000"
      ]
     },
     "execution_count": 33,
     "metadata": {},
     "output_type": "execute_result"
    }
   ],
   "source": [
    "features_area = df_AREA[['Vict Age', 'Vict Sex', 'Vict Descent', 'Violent_Crime']]\n",
    "\n",
    "df_cat = features_area.select_dtypes(include = 'object')\n",
    "df_num = features_area.select_dtypes(include = [np.number])\n",
    "\n",
    "from sklearn.preprocessing import LabelEncoder\n",
    "Encoder = LabelEncoder()\n",
    "\n",
    "for col in df_cat:\n",
    "    if col not in ['Violent_Crime']:\n",
    "        features_area[col] = Encoder.fit_transform(features_area[col])\n",
    "\n",
    "features_area.corr()"
   ]
  },
  {
   "cell_type": "code",
   "execution_count": 34,
   "id": "d81352d3",
   "metadata": {},
   "outputs": [
    {
     "data": {
      "image/png": "[encoded data removed]",
      "text/plain": [
       "<Figure size 1000x800 with 2 Axes>"
      ]
     },
     "metadata": {},
     "output_type": "display_data"
    }
   ],
   "source": [
    "## Calculate correlation matrix to understand relationships, feature selection, and insight\n",
    "import seaborn as sns\n",
    "import matplotlib.pyplot as plt\n",
    "\n",
    "corr = features_yr.corr()  \n",
    "plt.figure(figsize=(10, 8))\n",
    "sns.heatmap(corr, annot=True, cmap='coolwarm', fmt='.2f', linewidths=0.5)\n",
    "plt.show()"
   ]
  },
  {
   "cell_type": "code",
   "execution_count": 35,
   "id": "c2407920",
   "metadata": {},
   "outputs": [],
   "source": [
    "sampled_area_df = features_area.sample(n=40000, random_state=42)"
   ]
  },
  {
   "cell_type": "code",
   "execution_count": null,
   "id": "cf3d223b",
   "metadata": {},
   "outputs": [],
   "source": [
    "## Individual AREA one year"
   ]
  },
  {
   "cell_type": "code",
   "execution_count": 43,
   "id": "2bb70bf8",
   "metadata": {},
   "outputs": [
    {
     "name": "stderr",
     "output_type": "stream",
     "text": [
      "C:\\Users\\jesus\\AppData\\Local\\Temp\\ipykernel_26604\\1265047034.py:11: SettingWithCopyWarning: \n",
      "A value is trying to be set on a copy of a slice from a DataFrame.\n",
      "Try using .loc[row_indexer,col_indexer] = value instead\n",
      "\n",
      "See the caveats in the documentation: https://pandas.pydata.org/pandas-docs/stable/user_guide/indexing.html#returning-a-view-versus-a-copy\n",
      "  features_area_one_year[col] = Encoder.fit_transform(features_area_one_year[col])\n",
      "C:\\Users\\jesus\\AppData\\Local\\Temp\\ipykernel_26604\\1265047034.py:11: SettingWithCopyWarning: \n",
      "A value is trying to be set on a copy of a slice from a DataFrame.\n",
      "Try using .loc[row_indexer,col_indexer] = value instead\n",
      "\n",
      "See the caveats in the documentation: https://pandas.pydata.org/pandas-docs/stable/user_guide/indexing.html#returning-a-view-versus-a-copy\n",
      "  features_area_one_year[col] = Encoder.fit_transform(features_area_one_year[col])\n"
     ]
    },
    {
     "data": {
      "text/html": [
       "<div>\n",
       "<style scoped>\n",
       "    .dataframe tbody tr th:only-of-type {\n",
       "        vertical-align: middle;\n",
       "    }\n",
       "\n",
       "    .dataframe tbody tr th {\n",
       "        vertical-align: top;\n",
       "    }\n",
       "\n",
       "    .dataframe thead th {\n",
       "        text-align: right;\n",
       "    }\n",
       "</style>\n",
       "<table border=\"1\" class=\"dataframe\">\n",
       "  <thead>\n",
       "    <tr style=\"text-align: right;\">\n",
       "      <th></th>\n",
       "      <th>Vict Age</th>\n",
       "      <th>Vict Sex</th>\n",
       "      <th>Vict Descent</th>\n",
       "      <th>Violent_Crime</th>\n",
       "    </tr>\n",
       "  </thead>\n",
       "  <tbody>\n",
       "    <tr>\n",
       "      <th>Vict Age</th>\n",
       "      <td>1.000000</td>\n",
       "      <td>-0.448152</td>\n",
       "      <td>-0.354750</td>\n",
       "      <td>0.214059</td>\n",
       "    </tr>\n",
       "    <tr>\n",
       "      <th>Vict Sex</th>\n",
       "      <td>-0.448152</td>\n",
       "      <td>1.000000</td>\n",
       "      <td>0.410772</td>\n",
       "      <td>-0.199295</td>\n",
       "    </tr>\n",
       "    <tr>\n",
       "      <th>Vict Descent</th>\n",
       "      <td>-0.354750</td>\n",
       "      <td>0.410772</td>\n",
       "      <td>1.000000</td>\n",
       "      <td>-0.216682</td>\n",
       "    </tr>\n",
       "    <tr>\n",
       "      <th>Violent_Crime</th>\n",
       "      <td>0.214059</td>\n",
       "      <td>-0.199295</td>\n",
       "      <td>-0.216682</td>\n",
       "      <td>1.000000</td>\n",
       "    </tr>\n",
       "  </tbody>\n",
       "</table>\n",
       "</div>"
      ],
      "text/plain": [
       "               Vict Age  Vict Sex  Vict Descent  Violent_Crime\n",
       "Vict Age       1.000000 -0.448152     -0.354750       0.214059\n",
       "Vict Sex      -0.448152  1.000000      0.410772      -0.199295\n",
       "Vict Descent  -0.354750  0.410772      1.000000      -0.216682\n",
       "Violent_Crime  0.214059 -0.199295     -0.216682       1.000000"
      ]
     },
     "execution_count": 43,
     "metadata": {},
     "output_type": "execute_result"
    }
   ],
   "source": [
    "features_area_one_year = df_AREA_ONE_YEAR[['Vict Age', 'Vict Sex', 'Vict Descent', 'Violent_Crime']]\n",
    "\n",
    "df_cat = features_area_one_year.select_dtypes(include = 'object')\n",
    "df_num = features_area_one_year.select_dtypes(include = [np.number])\n",
    "\n",
    "from sklearn.preprocessing import LabelEncoder\n",
    "Encoder = LabelEncoder()\n",
    "\n",
    "for col in df_cat:\n",
    "    if col not in ['Violent_Crime']:\n",
    "        features_area_one_year[col] = Encoder.fit_transform(features_area_one_year[col])\n",
    "\n",
    "features_area_one_year.corr()"
   ]
  },
  {
   "cell_type": "code",
   "execution_count": 46,
   "id": "00b06f44",
   "metadata": {},
   "outputs": [
    {
     "data": {
      "image/png": "[encoded data removed]",
      "text/plain": [
       "<Figure size 1000x800 with 2 Axes>"
      ]
     },
     "metadata": {},
     "output_type": "display_data"
    }
   ],
   "source": [
    "## Calculate correlation matrix to understand relationships, feature selection, and insight\n",
    "import seaborn as sns\n",
    "import matplotlib.pyplot as plt\n",
    "\n",
    "corr = features_area_one_year.corr()  \n",
    "plt.figure(figsize=(10, 8))\n",
    "sns.heatmap(corr, annot=True, cmap='coolwarm', fmt='.2f', linewidths=0.5)\n",
    "plt.show()"
   ]
  },
  {
   "cell_type": "code",
   "execution_count": 47,
   "id": "a30cc147",
   "metadata": {},
   "outputs": [],
   "source": [
    "sampled_area_df_one_year = features_area_one_year.sample(n=10000, random_state=42)"
   ]
  },
  {
   "cell_type": "code",
   "execution_count": 15,
   "id": "51a107af",
   "metadata": {},
   "outputs": [],
   "source": [
    "# TEST 1\n",
    "X = sampled_df[['Vict Age', 'Vict Sex', 'Vict Descent']]\n",
    "y = sampled_df['Violent_Crime']"
   ]
  },
  {
   "cell_type": "code",
   "execution_count": 43,
   "id": "0f8eb1cb",
   "metadata": {},
   "outputs": [],
   "source": [
    "# TEST 2 - Balanced\n",
    "x = sampled_df[['Vict Age', 'Vict Sex', 'Vict Descent']]\n",
    "y = sampled_df['Violent_Crime']"
   ]
  },
  {
   "cell_type": "code",
   "execution_count": 98,
   "id": "bf844fc0",
   "metadata": {},
   "outputs": [],
   "source": [
    "# TEST 3\n",
    "X = sampled_df[[ 'Vict Sex']]\n",
    "y = sampled_df['Violent_Crime']"
   ]
  },
  {
   "cell_type": "code",
   "execution_count": 26,
   "id": "94471796",
   "metadata": {},
   "outputs": [],
   "source": [
    "# TEST 4 by YEAR\n",
    "X = sampled_yr_df[['Vict Age', 'Vict Sex', 'Vict Descent']]\n",
    "y = sampled_yr_df['Violent_Crime']"
   ]
  },
  {
   "cell_type": "code",
   "execution_count": 36,
   "id": "d83457be",
   "metadata": {},
   "outputs": [],
   "source": [
    "# TEST 5 by AREA\n",
    "X = sampled_area_df[['Vict Age','Vict Sex', 'Vict Descent']]\n",
    "y = sampled_area_df['Violent_Crime']"
   ]
  },
  {
   "cell_type": "code",
   "execution_count": 48,
   "id": "4cd44c52",
   "metadata": {},
   "outputs": [],
   "source": [
    "# TEST 5 by AREA one Year\n",
    "X = sampled_area_df_one_year[['Vict Age','Vict Sex', 'Vict Descent']]\n",
    "y = sampled_area_df_one_year['Violent_Crime']"
   ]
  },
  {
   "cell_type": "markdown",
   "id": "8eb22d52",
   "metadata": {},
   "source": [
    "## Scaling the Dataset / Spit into training and testing"
   ]
  },
  {
   "cell_type": "code",
   "execution_count": 49,
   "id": "4580dba3",
   "metadata": {
    "id": "4580dba3"
   },
   "outputs": [],
   "source": [
    "from sklearn.preprocessing import StandardScaler\n",
    "\n",
    "Scale = StandardScaler()\n",
    "\n",
    "X_Scaled = Scale.fit_transform(X)\n",
    "\n",
    "X = pd.DataFrame(X_Scaled, columns = X.columns)"
   ]
  },
  {
   "cell_type": "code",
   "execution_count": 50,
   "id": "81f73831",
   "metadata": {},
   "outputs": [
    {
     "name": "stdout",
     "output_type": "stream",
     "text": [
      "X_train (8000, 3)\n",
      "y_train (8000,)\n",
      "X_test (2000, 3)\n",
      "y_test (2000,)\n"
     ]
    }
   ],
   "source": [
    "\n",
    "\n",
    "X_train, X_test, y_train, y_test = train_test_split(X, y, random_state = 42, test_size = 0.2)\n",
    "\n",
    "print('X_train', X_train.shape)\n",
    "print('y_train', y_train.shape)\n",
    "\n",
    "print('X_test', X_test.shape)\n",
    "print('y_test', y_test.shape)"
   ]
  },
  {
   "cell_type": "markdown",
   "id": "761044c4",
   "metadata": {},
   "source": [
    "## Logistic Regression"
   ]
  },
  {
   "cell_type": "markdown",
   "id": "9d90e897",
   "metadata": {},
   "source": [
    "## Test 1 \n"
   ]
  },
  {
   "cell_type": "code",
   "execution_count": 18,
   "id": "3e577b55",
   "metadata": {},
   "outputs": [
    {
     "name": "stdout",
     "output_type": "stream",
     "text": [
      "Accuracy score of our train data: 0.6534425\n",
      "Accuracy score of our test data: 0.65295\n"
     ]
    }
   ],
   "source": [
    "model = LogisticRegression()\n",
    "model.fit(X_train,y_train)\n",
    "\n",
    "# train accuracy\n",
    "X_train_prediction  = model.predict(X_train)\n",
    "train_data_accuracy = accuracy_score(X_train_prediction,y_train)\n",
    "\n",
    "print('Accuracy score of our train data:',train_data_accuracy)\n",
    "\n",
    "# test accuracy\n",
    "X_test_prediction  = model.predict(X_test)\n",
    "train_data_accuracy = accuracy_score(X_train_prediction, y_train)\n",
    "test_data_accuracy = accuracy_score(X_test_prediction,y_test)\n",
    "\n",
    "print('Accuracy score of our test data:',test_data_accuracy)"
   ]
  },
  {
   "cell_type": "code",
   "execution_count": 19,
   "id": "11345c5b",
   "metadata": {},
   "outputs": [
    {
     "name": "stdout",
     "output_type": "stream",
     "text": [
      "Logistic Regression Classification Report:\n",
      "               precision    recall  f1-score   support\n",
      "\n",
      "           0       0.69      0.63      0.66    211622\n",
      "           1       0.62      0.68      0.65    188378\n",
      "\n",
      "    accuracy                           0.65    400000\n",
      "   macro avg       0.65      0.65      0.65    400000\n",
      "weighted avg       0.66      0.65      0.65    400000\n",
      "\n"
     ]
    }
   ],
   "source": [
    "# classification reports for training data\n",
    "print(\"Logistic Regression Classification Report:\\n\", classification_report(y_train, X_train_prediction))"
   ]
  },
  {
   "cell_type": "code",
   "execution_count": 20,
   "id": "0ea584f4",
   "metadata": {},
   "outputs": [
    {
     "name": "stdout",
     "output_type": "stream",
     "text": [
      "Logistic Regression Classification Report:\n",
      "               precision    recall  f1-score   support\n",
      "\n",
      "           0       0.69      0.63      0.66     53311\n",
      "           1       0.62      0.68      0.65     46689\n",
      "\n",
      "    accuracy                           0.65    100000\n",
      "   macro avg       0.65      0.65      0.65    100000\n",
      "weighted avg       0.66      0.65      0.65    100000\n",
      "\n"
     ]
    }
   ],
   "source": [
    "# classification reports for test data\n",
    "print(\"Logistic Regression Classification Report:\\n\", classification_report(y_test, X_test_prediction))"
   ]
  },
  {
   "cell_type": "markdown",
   "id": "7aa06b41",
   "metadata": {},
   "source": [
    "## Test 2"
   ]
  },
  {
   "cell_type": "code",
   "execution_count": 46,
   "id": "3bc24b4b",
   "metadata": {},
   "outputs": [
    {
     "name": "stdout",
     "output_type": "stream",
     "text": [
      "Accuracy score of our train data: 0.529055\n",
      "Accuracy score of our test data: 0.53311\n"
     ]
    }
   ],
   "source": [
    "\n",
    "model = LogisticRegression()\n",
    "model.fit(X_train,y_train)\n",
    "\n",
    "# train accuracy\n",
    "X_train_prediction  = model.predict(X_train)\n",
    "train_data_accuracy = accuracy_score(X_train_prediction,y_train)\n",
    "\n",
    "print('Accuracy score of our train data:',train_data_accuracy)\n",
    "\n",
    "# test accuracy\n",
    "X_test_prediction  = model.predict(X_test)\n",
    "train_data_accuracy = accuracy_score(X_train_prediction, y_train)\n",
    "test_data_accuracy = accuracy_score(X_test_prediction,y_test)\n",
    "\n",
    "print('Accuracy score of our test data:',test_data_accuracy)"
   ]
  },
  {
   "cell_type": "code",
   "execution_count": 47,
   "id": "7a811efb",
   "metadata": {},
   "outputs": [
    {
     "name": "stderr",
     "output_type": "stream",
     "text": [
      "c:\\Users\\jesus\\anaconda3\\Lib\\site-packages\\sklearn\\metrics\\_classification.py:1509: UndefinedMetricWarning: Precision is ill-defined and being set to 0.0 in labels with no predicted samples. Use `zero_division` parameter to control this behavior.\n",
      "  _warn_prf(average, modifier, f\"{metric.capitalize()} is\", len(result))\n"
     ]
    },
    {
     "name": "stdout",
     "output_type": "stream",
     "text": [
      "Logistic Regression Classification Report:\n",
      "               precision    recall  f1-score   support\n",
      "\n",
      "           0       0.53      1.00      0.69    211622\n",
      "           1       0.00      0.00      0.00    188378\n",
      "\n",
      "    accuracy                           0.53    400000\n",
      "   macro avg       0.26      0.50      0.35    400000\n",
      "weighted avg       0.28      0.53      0.37    400000\n",
      "\n"
     ]
    },
    {
     "name": "stderr",
     "output_type": "stream",
     "text": [
      "c:\\Users\\jesus\\anaconda3\\Lib\\site-packages\\sklearn\\metrics\\_classification.py:1509: UndefinedMetricWarning: Precision is ill-defined and being set to 0.0 in labels with no predicted samples. Use `zero_division` parameter to control this behavior.\n",
      "  _warn_prf(average, modifier, f\"{metric.capitalize()} is\", len(result))\n",
      "c:\\Users\\jesus\\anaconda3\\Lib\\site-packages\\sklearn\\metrics\\_classification.py:1509: UndefinedMetricWarning: Precision is ill-defined and being set to 0.0 in labels with no predicted samples. Use `zero_division` parameter to control this behavior.\n",
      "  _warn_prf(average, modifier, f\"{metric.capitalize()} is\", len(result))\n"
     ]
    }
   ],
   "source": [
    "# classification reports for training data\n",
    "print(\"Logistic Regression Classification Report:\\n\", classification_report(y_train, X_train_prediction))"
   ]
  },
  {
   "cell_type": "code",
   "execution_count": 41,
   "id": "7a913eb8",
   "metadata": {},
   "outputs": [
    {
     "name": "stdout",
     "output_type": "stream",
     "text": [
      "Logistic Regression Classification Report:\n",
      "               precision    recall  f1-score   support\n",
      "\n",
      "           0       0.53      1.00      0.70     53311\n",
      "           1       0.00      0.00      0.00     46689\n",
      "\n",
      "    accuracy                           0.53    100000\n",
      "   macro avg       0.27      0.50      0.35    100000\n",
      "weighted avg       0.28      0.53      0.37    100000\n",
      "\n"
     ]
    },
    {
     "name": "stderr",
     "output_type": "stream",
     "text": [
      "c:\\Users\\jesus\\anaconda3\\Lib\\site-packages\\sklearn\\metrics\\_classification.py:1509: UndefinedMetricWarning: Precision is ill-defined and being set to 0.0 in labels with no predicted samples. Use `zero_division` parameter to control this behavior.\n",
      "  _warn_prf(average, modifier, f\"{metric.capitalize()} is\", len(result))\n",
      "c:\\Users\\jesus\\anaconda3\\Lib\\site-packages\\sklearn\\metrics\\_classification.py:1509: UndefinedMetricWarning: Precision is ill-defined and being set to 0.0 in labels with no predicted samples. Use `zero_division` parameter to control this behavior.\n",
      "  _warn_prf(average, modifier, f\"{metric.capitalize()} is\", len(result))\n",
      "c:\\Users\\jesus\\anaconda3\\Lib\\site-packages\\sklearn\\metrics\\_classification.py:1509: UndefinedMetricWarning: Precision is ill-defined and being set to 0.0 in labels with no predicted samples. Use `zero_division` parameter to control this behavior.\n",
      "  _warn_prf(average, modifier, f\"{metric.capitalize()} is\", len(result))\n"
     ]
    }
   ],
   "source": [
    "# classification reports for test data\n",
    "print(\"Logistic Regression Classification Report:\\n\", classification_report(y_test, X_test_prediction))"
   ]
  },
  {
   "cell_type": "markdown",
   "id": "d1a5c974",
   "metadata": {},
   "source": [
    "## TEST 3"
   ]
  },
  {
   "cell_type": "code",
   "execution_count": 101,
   "id": "b7c4da62",
   "metadata": {},
   "outputs": [
    {
     "name": "stdout",
     "output_type": "stream",
     "text": [
      "Accuracy score of our train data: 0.59208\n",
      "Accuracy score of our test data: 0.59122\n"
     ]
    }
   ],
   "source": [
    "model = LogisticRegression()\n",
    "model.fit(X_train,y_train)\n",
    "\n",
    "# train accuracy\n",
    "X_train_prediction  = model.predict(X_train)\n",
    "train_data_accuracy = accuracy_score(X_train_prediction,y_train)\n",
    "\n",
    "print('Accuracy score of our train data:',train_data_accuracy)\n",
    "\n",
    "# test accuracy\n",
    "X_test_prediction  = model.predict(X_test)\n",
    "train_data_accuracy = accuracy_score(X_train_prediction, y_train)\n",
    "test_data_accuracy = accuracy_score(X_test_prediction,y_test)\n",
    "\n",
    "print('Accuracy score of our test data:',test_data_accuracy)"
   ]
  },
  {
   "cell_type": "code",
   "execution_count": 102,
   "id": "ca38b0d3",
   "metadata": {},
   "outputs": [
    {
     "name": "stdout",
     "output_type": "stream",
     "text": [
      "Logistic Regression Classification Report:\n",
      "               precision    recall  f1-score   support\n",
      "\n",
      "           0       0.60      0.68      0.64    211622\n",
      "           1       0.58      0.49      0.53    188378\n",
      "\n",
      "    accuracy                           0.59    400000\n",
      "   macro avg       0.59      0.59      0.58    400000\n",
      "weighted avg       0.59      0.59      0.59    400000\n",
      "\n"
     ]
    }
   ],
   "source": [
    "# classification reports for training data\n",
    "print(\"Logistic Regression Classification Report:\\n\", classification_report(y_train, X_train_prediction))"
   ]
  },
  {
   "cell_type": "code",
   "execution_count": 103,
   "id": "e491bed5",
   "metadata": {},
   "outputs": [
    {
     "name": "stdout",
     "output_type": "stream",
     "text": [
      "Logistic Regression Classification Report:\n",
      "               precision    recall  f1-score   support\n",
      "\n",
      "           0       0.60      0.69      0.64     53311\n",
      "           1       0.57      0.48      0.53     46689\n",
      "\n",
      "    accuracy                           0.59    100000\n",
      "   macro avg       0.59      0.58      0.58    100000\n",
      "weighted avg       0.59      0.59      0.59    100000\n",
      "\n"
     ]
    }
   ],
   "source": [
    "# classification reports for test data\n",
    "print(\"Logistic Regression Classification Report:\\n\", classification_report(y_test, X_test_prediction))"
   ]
  },
  {
   "cell_type": "markdown",
   "id": "3e863a17",
   "metadata": {},
   "source": [
    "## TEST 4 by year"
   ]
  },
  {
   "cell_type": "code",
   "execution_count": 29,
   "id": "36ab21d2",
   "metadata": {},
   "outputs": [
    {
     "name": "stdout",
     "output_type": "stream",
     "text": [
      "Accuracy score of our train data: 0.6506\n",
      "Accuracy score of our test data: 0.6484\n"
     ]
    }
   ],
   "source": [
    "model = LogisticRegression()\n",
    "model.fit(X_train,y_train)\n",
    "\n",
    "# train accuracy\n",
    "X_train_prediction  = model.predict(X_train)\n",
    "train_data_accuracy = accuracy_score(X_train_prediction,y_train)\n",
    "\n",
    "print('Accuracy score of our train data:',train_data_accuracy)\n",
    "\n",
    "# test accuracy\n",
    "X_test_prediction  = model.predict(X_test)\n",
    "train_data_accuracy = accuracy_score(X_train_prediction, y_train)\n",
    "test_data_accuracy = accuracy_score(X_test_prediction,y_test)\n",
    "\n",
    "print('Accuracy score of our test data:',test_data_accuracy)"
   ]
  },
  {
   "cell_type": "code",
   "execution_count": 30,
   "id": "e623bd55",
   "metadata": {},
   "outputs": [
    {
     "name": "stdout",
     "output_type": "stream",
     "text": [
      "Logistic Regression Classification Report:\n",
      "               precision    recall  f1-score   support\n",
      "\n",
      "           0       0.68      0.66      0.67     42675\n",
      "           1       0.62      0.64      0.63     37325\n",
      "\n",
      "    accuracy                           0.65     80000\n",
      "   macro avg       0.65      0.65      0.65     80000\n",
      "weighted avg       0.65      0.65      0.65     80000\n",
      "\n"
     ]
    }
   ],
   "source": [
    "# classification reports for training data\n",
    "print(\"Logistic Regression Classification Report:\\n\", classification_report(y_train, X_train_prediction))"
   ]
  },
  {
   "cell_type": "code",
   "execution_count": 31,
   "id": "d43b1222",
   "metadata": {},
   "outputs": [
    {
     "name": "stdout",
     "output_type": "stream",
     "text": [
      "Logistic Regression Classification Report:\n",
      "               precision    recall  f1-score   support\n",
      "\n",
      "           0       0.68      0.66      0.67     10688\n",
      "           1       0.62      0.64      0.63      9312\n",
      "\n",
      "    accuracy                           0.65     20000\n",
      "   macro avg       0.65      0.65      0.65     20000\n",
      "weighted avg       0.65      0.65      0.65     20000\n",
      "\n"
     ]
    }
   ],
   "source": [
    "# classification reports for test data\n",
    "print(\"Logistic Regression Classification Report:\\n\", classification_report(y_test, X_test_prediction))"
   ]
  },
  {
   "cell_type": "markdown",
   "id": "d0b4fa8f",
   "metadata": {},
   "source": [
    "# TEST 5 by AREA"
   ]
  },
  {
   "cell_type": "code",
   "execution_count": 39,
   "id": "561ca07f",
   "metadata": {},
   "outputs": [
    {
     "name": "stdout",
     "output_type": "stream",
     "text": [
      "Accuracy score of our train data: 0.6115625\n",
      "Accuracy score of our test data: 0.608125\n"
     ]
    }
   ],
   "source": [
    "model = LogisticRegression()\n",
    "model.fit(X_train,y_train)\n",
    "\n",
    "# train accuracy\n",
    "X_train_prediction  = model.predict(X_train)\n",
    "train_data_accuracy = accuracy_score(X_train_prediction,y_train)\n",
    "\n",
    "print('Accuracy score of our train data:',train_data_accuracy)\n",
    "\n",
    "# test accuracy\n",
    "X_test_prediction  = model.predict(X_test)\n",
    "train_data_accuracy = accuracy_score(X_train_prediction, y_train)\n",
    "test_data_accuracy = accuracy_score(X_test_prediction,y_test)\n",
    "\n",
    "print('Accuracy score of our test data:',test_data_accuracy)"
   ]
  },
  {
   "cell_type": "code",
   "execution_count": 40,
   "id": "e1e9e237",
   "metadata": {},
   "outputs": [
    {
     "name": "stdout",
     "output_type": "stream",
     "text": [
      "Logistic Regression Classification Report:\n",
      "               precision    recall  f1-score   support\n",
      "\n",
      "           0       0.63      0.53      0.58     15884\n",
      "           1       0.60      0.69      0.64     16116\n",
      "\n",
      "    accuracy                           0.61     32000\n",
      "   macro avg       0.61      0.61      0.61     32000\n",
      "weighted avg       0.61      0.61      0.61     32000\n",
      "\n"
     ]
    }
   ],
   "source": [
    "# classification reports for training data\n",
    "print(\"Logistic Regression Classification Report:\\n\", classification_report(y_train, X_train_prediction))"
   ]
  },
  {
   "cell_type": "code",
   "execution_count": 41,
   "id": "9a0bda2b",
   "metadata": {},
   "outputs": [
    {
     "name": "stdout",
     "output_type": "stream",
     "text": [
      "Logistic Regression Classification Report:\n",
      "               precision    recall  f1-score   support\n",
      "\n",
      "           0       0.63      0.52      0.57      3985\n",
      "           1       0.59      0.69      0.64      4015\n",
      "\n",
      "    accuracy                           0.61      8000\n",
      "   macro avg       0.61      0.61      0.61      8000\n",
      "weighted avg       0.61      0.61      0.61      8000\n",
      "\n"
     ]
    }
   ],
   "source": [
    "# classification reports for test data\n",
    "print(\"Logistic Regression Classification Report:\\n\", classification_report(y_test, X_test_prediction))"
   ]
  },
  {
   "cell_type": "code",
   "execution_count": null,
   "metadata": {},
   "outputs": [
    {
     "name": "stdout",
     "output_type": "stream",
     "text": [
      "Logistic Regression Classification Report:\n",
      "               precision    recall  f1-score   support\n",
      "\n",
      "           0       0.63      0.52      0.57      3985\n",
      "           1       0.59      0.69      0.64      4015\n",
      "\n",
      "    accuracy                           0.61      8000\n",
      "   macro avg       0.61      0.61      0.61      8000\n",
      "weighted avg       0.61      0.61      0.61      8000\n",
      "\n"
     ]
    }
   ],
   "source": [
    "# classification reports for test data\n",
    "print(\"Logistic Regression Classification Report:\\n\", classification_report(y_test, X_test_prediction))"
   ]
  },
  {
   "cell_type": "markdown",
   "id": "d8b254d9",
   "metadata": {},
   "source": [
    "# TEST 6 by AREA ONE YEAR"
   ]
  },
  {
   "cell_type": "code",
   "execution_count": 51,
   "id": "e3713294",
   "metadata": {},
   "outputs": [
    {
     "name": "stdout",
     "output_type": "stream",
     "text": [
      "Accuracy score of our train data: 0.606625\n",
      "Accuracy score of our test data: 0.622\n"
     ]
    }
   ],
   "source": [
    "model = LogisticRegression()\n",
    "model.fit(X_train,y_train)\n",
    "\n",
    "# train accuracy\n",
    "X_train_prediction  = model.predict(X_train)\n",
    "train_data_accuracy = accuracy_score(X_train_prediction,y_train)\n",
    "\n",
    "print('Accuracy score of our train data:',train_data_accuracy)\n",
    "\n",
    "# test accuracy\n",
    "X_test_prediction  = model.predict(X_test)\n",
    "train_data_accuracy = accuracy_score(X_train_prediction, y_train)\n",
    "test_data_accuracy = accuracy_score(X_test_prediction,y_test)\n",
    "\n",
    "print('Accuracy score of our test data:',test_data_accuracy)"
   ]
  },
  {
   "cell_type": "code",
   "execution_count": 52,
   "id": "904615b9",
   "metadata": {},
   "outputs": [
    {
     "name": "stdout",
     "output_type": "stream",
     "text": [
      "Logistic Regression Classification Report:\n",
      "               precision    recall  f1-score   support\n",
      "\n",
      "           0       0.63      0.44      0.52      3864\n",
      "           1       0.59      0.76      0.67      4136\n",
      "\n",
      "    accuracy                           0.61      8000\n",
      "   macro avg       0.61      0.60      0.59      8000\n",
      "weighted avg       0.61      0.61      0.60      8000\n",
      "\n"
     ]
    }
   ],
   "source": [
    "# classification reports for training data\n",
    "print(\"Logistic Regression Classification Report:\\n\", classification_report(y_train, X_train_prediction))"
   ]
  },
  {
   "cell_type": "code",
   "execution_count": 53,
   "id": "db0d2ae6",
   "metadata": {},
   "outputs": [
    {
     "name": "stdout",
     "output_type": "stream",
     "text": [
      "Logistic Regression Classification Report:\n",
      "               precision    recall  f1-score   support\n",
      "\n",
      "           0       0.69      0.45      0.54      1001\n",
      "           1       0.59      0.80      0.68       999\n",
      "\n",
      "    accuracy                           0.62      2000\n",
      "   macro avg       0.64      0.62      0.61      2000\n",
      "weighted avg       0.64      0.62      0.61      2000\n",
      "\n"
     ]
    }
   ],
   "source": [
    "# classification reports for test data\n",
    "print(\"Logistic Regression Classification Report:\\n\", classification_report(y_test, X_test_prediction))"
   ]
  }
 ],
 "metadata": {
  "accelerator": "GPU",
  "colab": {
   "gpuType": "T4",
   "provenance": []
  },
  "kernelspec": {
   "display_name": "base",
   "language": "python",
   "name": "python3"
  },
  "language_info": {
   "codemirror_mode": {
    "name": "ipython",
    "version": 3
   },
   "file_extension": ".py",
   "mimetype": "text/x-python",
   "name": "python",
   "nbconvert_exporter": "python",
   "pygments_lexer": "ipython3",
   "version": "3.12.4"
  }
 },
 "nbformat": 4,
 "nbformat_minor": 5
}
